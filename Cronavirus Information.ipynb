{
 "cells": [
  {
   "cell_type": "code",
   "execution_count": 2,
   "metadata": {},
   "outputs": [
    {
     "ename": "ModuleNotFoundError",
     "evalue": "No module named 'numpy'",
     "output_type": "error",
     "traceback": [
      "\u001b[1;31m---------------------------------------------------------------------------\u001b[0m",
      "\u001b[1;31mModuleNotFoundError\u001b[0m                       Traceback (most recent call last)",
      "\u001b[1;32m~\\AppData\\Local\\Temp/ipykernel_8312/1933300010.py\u001b[0m in \u001b[0;36m<module>\u001b[1;34m\u001b[0m\n\u001b[1;32m----> 1\u001b[1;33m \u001b[1;32mimport\u001b[0m \u001b[0mnumpy\u001b[0m \u001b[1;32mas\u001b[0m \u001b[0mnp\u001b[0m \u001b[1;31m# linear algebra\u001b[0m\u001b[1;33m\u001b[0m\u001b[1;33m\u001b[0m\u001b[0m\n\u001b[0m\u001b[0;32m      2\u001b[0m \u001b[1;32mimport\u001b[0m \u001b[0mpandas\u001b[0m \u001b[1;32mas\u001b[0m \u001b[0mpd\u001b[0m \u001b[1;31m# data processing, CSV file I/O (e.g. pd.read_csv)\u001b[0m\u001b[1;33m\u001b[0m\u001b[1;33m\u001b[0m\u001b[0m\n\u001b[0;32m      3\u001b[0m \u001b[1;31m# import matplotlib.pyplot as plt\u001b[0m\u001b[1;33m\u001b[0m\u001b[1;33m\u001b[0m\u001b[1;33m\u001b[0m\u001b[0m\n\u001b[0;32m      4\u001b[0m \u001b[1;31m# import matplotlib.dates as mdates\u001b[0m\u001b[1;33m\u001b[0m\u001b[1;33m\u001b[0m\u001b[1;33m\u001b[0m\u001b[0m\n\u001b[0;32m      5\u001b[0m \u001b[1;31m# from matplotlib.dates import DateFormatter\u001b[0m\u001b[1;33m\u001b[0m\u001b[1;33m\u001b[0m\u001b[1;33m\u001b[0m\u001b[0m\n",
      "\u001b[1;31mModuleNotFoundError\u001b[0m: No module named 'numpy'"
     ]
    }
   ],
   "source": [
    "import numpy as np # linear algebra\n",
    "import pandas as pd # data processing, CSV file I/O (e.g. pd.read_csv)\n",
    "# import matplotlib.pyplot as plt\n",
    "# import matplotlib.dates as mdates\n",
    "# from matplotlib.dates import DateFormatter\n",
    "# #%matplotlib inline\n",
    "# import seaborn as sns\n",
    "# from datetime import datetime\n",
    "# from pandas.plotting import register_matplotlib_converters\n",
    "# register_matplotlib_converters()\n",
    "# import pycountry_convert as pc\n",
    "# import plotly.express as px\n",
    "# import plotly.graph_objects as go\n",
    "# from plotly.subplots import make_subplots\n",
    "# import  folium\n",
    "# import json"
   ]
  },
  {
   "cell_type": "code",
   "execution_count": 1,
   "metadata": {},
   "outputs": [],
   "source": [
    "from functools import reduce"
   ]
  },
  {
   "cell_type": "code",
   "execution_count": 4,
   "metadata": {},
   "outputs": [
    {
     "data": {
      "text/plain": [
       "81"
      ]
     },
     "execution_count": 4,
     "metadata": {},
     "output_type": "execute_result"
    }
   ],
   "source": [
    "list = [12, 15, 16, 18, 20]\n",
    "sum = reduce(lambda x,y: x+y, list)\n",
    "sum"
   ]
  },
  {
   "cell_type": "code",
   "execution_count": null,
   "metadata": {},
   "outputs": [],
   "source": [
    "list = [2, 5, 4, 7,9]\n",
    "sort = reduce(l)"
   ]
  },
  {
   "cell_type": "code",
   "execution_count": 27,
   "metadata": {},
   "outputs": [],
   "source": [
    "set = {3, 5, 7, 2,9, 9, 2}\n"
   ]
  },
  {
   "cell_type": "code",
   "execution_count": 28,
   "metadata": {},
   "outputs": [
    {
     "name": "stdout",
     "output_type": "stream",
     "text": [
      "{2, 3, 5, 7, 9}\n"
     ]
    }
   ],
   "source": [
    "print(set)"
   ]
  },
  {
   "cell_type": "code",
   "execution_count": null,
   "metadata": {},
   "outputs": [],
   "source": [
    "df_cases = pd.read_csv(\"https://raw.githubusercontent.com/CSSEGISandData/COVID-19/web-data/data/cases.csv\")\n",
    "df_cases_country = pd.read_csv(\"https://raw.githubusercontent.com/CSSEGISandData/COVID-19/web-data/data/cases_country.csv\")\n",
    "df_cases_state = pd.read_csv(\"https://raw.githubusercontent.com/CSSEGISandData/COVID-19/web-data/data/cases_state.csv\")\n",
    "df_cases_time = pd.read_csv(\"https://raw.githubusercontent.com/CSSEGISandData/COVID-19/web-data/data/cases_time.csv\", parse_dates = ['Last_Update','Report_Date_String'])"
   ]
  },
  {
   "cell_type": "code",
   "execution_count": null,
   "metadata": {},
   "outputs": [],
   "source": [
    "print (df_cases.shape)\n",
    "print ('Last Update: ' + str(df_cases.Last_Update.max()))\n",
    "df_cases.head(1)"
   ]
  },
  {
   "cell_type": "code",
   "execution_count": null,
   "metadata": {},
   "outputs": [],
   "source": [
    "print (df_cases_country.shape)\n",
    "print ('Last update: ' + str(df_cases_country.Last_Update.max()))\n",
    "df_cases.head(1)"
   ]
  },
  {
   "cell_type": "code",
   "execution_count": null,
   "metadata": {},
   "outputs": [],
   "source": [
    "print(df_cases_state.shape)\n",
    "df_cases_state.head(1)"
   ]
  },
  {
   "cell_type": "code",
   "execution_count": null,
   "metadata": {},
   "outputs": [],
   "source": [
    "print(df_cases_time.shape)\n",
    "df_cases_time.head(1)"
   ]
  },
  {
   "cell_type": "code",
   "execution_count": null,
   "metadata": {},
   "outputs": [],
   "source": [
    "df_confirmed_global = pd.read_csv('https://raw.githubusercontent.com/CSSEGISandData/COVID-19/master/csse_covid_19_data/csse_covid_19_time_series/time_series_covid19_confirmed_global.csv')\n",
    "df_confirmed_us = pd.read_csv('https://raw.githubusercontent.com/CSSEGISandData/COVID-19/master/csse_covid_19_data/csse_covid_19_time_series/time_series_covid19_confirmed_US.csv')\n",
    "df_deaths_global = pd.read_csv('https://raw.githubusercontent.com/CSSEGISandData/COVID-19/master/csse_covid_19_data/csse_covid_19_time_series/time_series_covid19_deaths_global.csv')\n",
    "df_deaths_us = pd.read_csv('https://raw.githubusercontent.com/CSSEGISandData/COVID-19/master/csse_covid_19_data/csse_covid_19_time_series/time_series_covid19_deaths_US.csv')\n",
    "df_recovered_global = pd.read_csv('https://raw.githubusercontent.com/CSSEGISandData/COVID-19/master/csse_covid_19_data/csse_covid_19_time_series/time_series_covid19_recovered_global.csv')"
   ]
  },
  {
   "cell_type": "code",
   "execution_count": null,
   "metadata": {},
   "outputs": [],
   "source": [
    "print(df_confirmed_global.shape)\n",
    "df_confirmed_global.head(1)"
   ]
  },
  {
   "cell_type": "code",
   "execution_count": null,
   "metadata": {},
   "outputs": [],
   "source": [
    "print(df_confirmed_us.shape)\n",
    "df_confirmed_us.head(1)"
   ]
  },
  {
   "cell_type": "code",
   "execution_count": null,
   "metadata": {},
   "outputs": [],
   "source": [
    "print(df_deaths_global.shape)\n",
    "df_deaths_global.head(1)"
   ]
  },
  {
   "cell_type": "code",
   "execution_count": null,
   "metadata": {},
   "outputs": [],
   "source": [
    "print(df_deaths_us.shape)\n",
    "df_deaths_us.head(1)"
   ]
  },
  {
   "cell_type": "code",
   "execution_count": null,
   "metadata": {},
   "outputs": [],
   "source": [
    "print(df_recovered_global.shape)\n",
    "df_recovered_global.head(1)"
   ]
  },
  {
   "cell_type": "markdown",
   "metadata": {},
   "source": [
    "# Total cases Global"
   ]
  },
  {
   "cell_type": "code",
   "execution_count": null,
   "metadata": {},
   "outputs": [],
   "source": [
    "total_confirmed = np.sum(df_cases_country['Confirmed'])\n",
    "total_deaths = np.sum(df_cases_country['Deaths'])\n",
    "total_recovered = np.sum(df_cases_country['Recovered'])\n",
    "total_active = np.sum(df_cases_country['Active'])\n",
    "total_mortality_rate = np.round((np.sum(df_cases_country['Deaths']) / np.sum(df_cases_country['Confirmed']) * 100), 2)\n",
    "total_recover_rate = np.round((np.sum(df_cases_country['Recovered']) / np.sum(df_cases_country['Confirmed']) * 100), 2)\n",
    "\n",
    "print (\"Confirmed: %s\" %format(total_confirmed, \",\"))\n",
    "print (\"Deaths: %s\" %format(total_deaths, \",\"))\n",
    "print (\"Recovered: %s\" %format(total_recovered, \",\"))\n",
    "print (\"Active: %s\" %format(total_active, \",\"))\n",
    "print (\"Death rate %%: %.2f\" %((total_deaths / total_confirmed) * 100))\n",
    "print (\"Recover rate %%: %.2f\" %((total_recovered / total_confirmed) * 100))\n",
    "\n",
    "data = {\n",
    "    'Confirmed': [total_confirmed],\n",
    "    'Deaths': [total_deaths],\n",
    "    'Recovered': [total_recovered],\n",
    "    'Active': [total_active],\n",
    "    'Mortality Rate %': [total_mortality_rate],\n",
    "    'Recover Rate %': [total_recover_rate]\n",
    "}\n",
    "df_total = pd.DataFrame(data)\n",
    "# colormaps: https://matplotlib.org/3.1.0/tutorials/colors/colormaps.html\n",
    "df_total.style.hide_index().background_gradient(cmap='Wistia', axis=1)"
   ]
  },
  {
   "cell_type": "markdown",
   "metadata": {},
   "source": [
    "# cases by country"
   ]
  },
  {
   "cell_type": "code",
   "execution_count": null,
   "metadata": {},
   "outputs": [],
   "source": [
    "df_total_counts = df_cases_country.sort_values(by=['Confirmed'],ascending=[False])\n",
    "df_total_counts['Death Rate'] = df_total_counts['Deaths'] / df_total_counts['Confirmed'] * 100\n",
    "df_total_counts['Recovery Rate'] = df_total_counts['Recovered'] / df_total_counts['Confirmed'] * 100\n",
    "\n",
    "df_total_counts['Incident_Rate'].fillna(0, inplace=True)"
   ]
  },
  {
   "cell_type": "code",
   "execution_count": null,
   "metadata": {},
   "outputs": [],
   "source": [
    "fig = go.Figure(data=[\n",
    "    go.Pie(labels=df_total_counts['Country_Region'], \n",
    "           values=df_total_counts['Confirmed'], \n",
    "           hole=.35,\n",
    "           textinfo='label+percent'\n",
    "          )\n",
    "])\n",
    "\n",
    "fig.update_layout(\n",
    "    title_text=\"Confirmed Cases Percentage by Countries\",\n",
    "    # Add annotations in the center of the donut pies.\n",
    "    annotations=[\n",
    "        dict(text='Confirmed<br>Cases', showarrow=False),\n",
    "    ]\n",
    ")\n",
    "fig.update_traces(textposition='inside')\n",
    "fig.update_layout(margin={\"r\":0,\"l\":0,\"b\":0})\n",
    "fig.show()"
   ]
  },
  {
   "cell_type": "code",
   "execution_count": null,
   "metadata": {},
   "outputs": [],
   "source": [
    "fig = go.Figure(data=[\n",
    "    go.Pie(labels=df_total_counts['Country_Region'], \n",
    "           values=df_total_counts['Deaths'], \n",
    "           hole=.35,\n",
    "           textinfo='label+percent'\n",
    "          )\n",
    "])\n",
    "\n",
    "fig.update_layout(\n",
    "    title_text=\"Deaths Cases Percentage by Countries\",\n",
    "    # Add annotations in the center of the donut pies.\n",
    "    annotations=[\n",
    "        dict(text='Deaths<br>Cases', showarrow=False),\n",
    "    ]\n",
    ")\n",
    "fig.update_traces(textposition='inside')\n",
    "fig.update_layout(margin={\"r\":0,\"l\":0,\"b\":0})\n",
    "fig.show()"
   ]
  },
  {
   "cell_type": "code",
   "execution_count": null,
   "metadata": {},
   "outputs": [],
   "source": [
    "fig = go.Figure(data=[\n",
    "    go.Pie(labels=df_total_counts['Country_Region'], \n",
    "           values=df_total_counts['Recovered'], \n",
    "           hole=.35,\n",
    "           textinfo='label+percent'\n",
    "          )\n",
    "])\n",
    "\n",
    "fig.update_layout(\n",
    "    title_text=\"Recovered Cases Percentage by Countries\",\n",
    "    # Add annotations in the center of the donut pies.\n",
    "    annotations=[\n",
    "        dict(text='Recovered<br>Cases', showarrow=False),\n",
    "    ]\n",
    ")\n",
    "fig.update_traces(textposition='inside')\n",
    "fig.update_layout(margin={\"r\":0,\"l\":0,\"b\":0})\n",
    "fig.show()"
   ]
  },
  {
   "cell_type": "code",
   "execution_count": null,
   "metadata": {},
   "outputs": [],
   "source": [
    "# https://plotly.com/python/choropleth-maps/\n",
    "data = df_cases_country.copy()\n",
    "data['Confirmed_Log'] = np.log10(df_cases_country['Confirmed'])\n",
    "data['Mortality_Rate'] = np.round(data['Mortality_Rate'], 2)\n",
    "fig = px.choropleth(data, \n",
    "                    locations='ISO3',\n",
    "                    color='Confirmed_Log', # a column in the dataset\n",
    "                    hover_name='Country_Region', # column to add to hover information\n",
    "                    hover_data=['Confirmed', 'Deaths', 'Recovered', 'Mortality_Rate'],\n",
    "                    color_continuous_scale=px.colors.sequential.Plasma)\n",
    "fig.update_layout(title_text=\"Heat Map - Confirmed Cases\")\n",
    "fig.update_coloraxes(colorbar_title=\"<b>Color</b><br>Confirmed Cases<br>Log Scale\")\n",
    "#fig.update(layout_coloraxis_showscale=False)\n",
    "fig.update_layout(margin={\"r\":0,\"l\":0,\"b\":0})\n",
    "fig.show()"
   ]
  },
  {
   "cell_type": "code",
   "execution_count": null,
   "metadata": {},
   "outputs": [],
   "source": [
    "world_geo_json = 'country-state-geo-location/countries.geo.json'\n",
    "with open(world_geo_json) as f:\n",
    "  world_geo = json.load(f)\n",
    "\n",
    "data = df_cases_country.copy()\n",
    "#print (data[data['ISO3'] == 'AFG']['Confirmed'].iloc[0])\n",
    "\n",
    "for index, item in enumerate(world_geo['features']):\n",
    "    row = data[data['ISO3'] == item['id']]\n",
    "    if row.empty: continue # skip for countries that are not present in the cases dataset\n",
    "    world_geo['features'][index]['properties']['Confirmed'] = str(row.iloc[0]['Confirmed'])\n",
    "    world_geo['features'][index]['properties']['Deaths'] = str(row.iloc[0]['Deaths'])\n",
    "    world_geo['features'][index]['properties']['Recovered'] = str(row.iloc[0]['Recovered'])\n",
    "    world_geo['features'][index]['properties']['Mortality Rate'] = str(np.round(row.iloc[0]['Mortality_Rate'],2)) + '%'\n",
    "    world_geo['features'][index]['properties']['Recovery Rate'] = str(np.round(row.iloc[0]['Recovered'] / row.iloc[0]['Confirmed'] * 100, 2)) + '%'\n",
    "\n",
    "print (world_geo['features'][0]['properties'])"
   ]
  },
  {
   "cell_type": "code",
   "execution_count": null,
   "metadata": {},
   "outputs": [],
   "source": [
    "data = df_cases_country.copy()\n",
    "\n",
    "# for Kosovo, ISO3 in geoJson = CS-KM & in cases CSV = XKS\n",
    "data['ISO3'].replace('XKS', 'CS-KM', inplace=True) \n",
    "#print (data[data['Country_Region'] == 'Kosovo'])\n",
    "\n",
    "# logarithmic value is taken to avoid skewness\n",
    "# as US cases count is very much higher than the rest of the world\n",
    "data['Confirmed_Log'] = np.log2(data['Confirmed'])\n",
    "\n",
    "# create a plain world map\n",
    "world_map = folium.Map(location=[10,0], tiles=\"cartodbpositron\", zoom_start=2, max_zoom=6, min_zoom=2)\n",
    "\n",
    "# add tile layers to the map\n",
    "tiles = ['stamenwatercolor', 'cartodbpositron', 'openstreetmap', 'stamenterrain']\n",
    "for tile in tiles:\n",
    "    folium.TileLayer(tile).add_to(world_map)\n",
    "\n",
    "choropleth = folium.Choropleth(\n",
    "    geo_data=world_geo,\n",
    "    name='choropleth',\n",
    "    data=data,\n",
    "    columns=['ISO3', 'Confirmed_Log'],\n",
    "    key_on='feature.id',\n",
    "    fill_color='OrRd',\n",
    "    fill_opacity=0.7,\n",
    "    line_opacity=0.2,\n",
    "    nan_fill_color='#fef0d9',\n",
    "    nan_fill_opacity=0.2,\n",
    "    legend_name='Confirmed Cases (Log Scale)',\n",
    "    highlight=True,\n",
    "    line_color='black'\n",
    ").add_to(world_map)\n",
    "\n",
    "style_function = \"font-size: 15px; font-weight: bold\"\n",
    "choropleth.geojson.add_child(\n",
    "    folium.features.GeoJsonTooltip(\n",
    "        fields=['name', 'Confirmed', 'Deaths', 'Recovered', 'Mortality Rate', 'Recovery Rate'],\n",
    "        aliases=['Country','Confirmed', 'Deaths', 'Recovered', 'Mortality Rate', 'Recovery Rate'], \n",
    "        labels=True\n",
    "    )\n",
    ")\n",
    "\n",
    "folium.LayerControl(collapsed=True).add_to(world_map)\n",
    "world_map"
   ]
  },
  {
   "cell_type": "markdown",
   "metadata": {},
   "source": [
    "# Cases by Continent"
   ]
  },
  {
   "cell_type": "code",
   "execution_count": null,
   "metadata": {},
   "outputs": [],
   "source": [
    "def country_to_continent(country_name):\n",
    "    country_alpha2 = pc.country_name_to_country_alpha2(country_name)\n",
    "    country_continent_code = pc.country_alpha2_to_continent_code(country_alpha2)\n",
    "    country_continent_name = pc.convert_continent_code_to_continent_name(country_continent_code)\n",
    "    return country_continent_name\n",
    "\n",
    "# Example\n",
    "#country_name = 'Germany'\n",
    "#print(country_to_continent(country_name))"
   ]
  },
  {
   "cell_type": "code",
   "execution_count": null,
   "metadata": {},
   "outputs": [],
   "source": [
    "def get_continent(iso3):\n",
    "    try:\n",
    "        continent = pc.convert_continent_code_to_continent_name( \\\n",
    "                    pc.country_alpha2_to_continent_code( \\\n",
    "                     pc.country_alpha3_to_country_alpha2(iso3) ) )\n",
    "        if continent == 'Oceania':\n",
    "            continent = 'Australia'\n",
    "        return continent\n",
    "    except:\n",
    "        return 'others'\n",
    "\n",
    "# cases_country data with continent\n",
    "#cols = ['Country_Region', 'Confirmed', 'Deaths', 'Recovered', 'Active', 'ISO3']\n",
    "#df_continent = df_cases_country[cols].copy()\n",
    "df_continent = df_cases_country.copy()\n",
    "data_continent = []\n",
    "for index, row in df_continent.iterrows():\n",
    "    data_continent.append(get_continent(row.ISO3))\n",
    "df_continent['Continent'] = data_continent\n",
    "\n",
    "# cases_time data with continent\n",
    "df_continent_time = df_cases_time.copy()\n",
    "data_continent = []\n",
    "for index, row in df_continent_time.iterrows():\n",
    "    data_continent.append(get_continent(row.iso3))\n",
    "df_continent_time['Continent'] = data_continent\n",
    "df_continent_time['Confirmed'].fillna(0, inplace=True)\n",
    "df_continent_time['Deaths'].fillna(0, inplace=True)\n",
    "start_date = df_continent_time['Report_Date_String'].min()\n",
    "df_continent_time['Days'] = (df_continent_time['Report_Date_String'] - start_date).dt.days + 1\n",
    "\n",
    "# Get continent total\n",
    "df_continent_total = df_continent.groupby([\"Continent\"])['Country_Region', 'Confirmed', 'Deaths', 'Recovered', 'Active', 'ISO3'].sum()\n",
    "df_continent_total['Mortality Rate (%)'] = df_continent_total['Deaths'] / df_continent_total['Confirmed'] * 100\n",
    "df_continent_total['Recovery Rate (%)'] = df_continent_total['Recovered'] / df_continent_total['Confirmed'] * 100\n",
    "'''\n",
    "df_continent_total.style \\\n",
    ".background_gradient(cmap='Blues',subset=[\"Confirmed\"])\\\n",
    ".background_gradient(cmap='Reds',subset=[\"Deaths\"])\\\n",
    "#.background_gradient(cmap='Greens',subset=[\"Recovered\"])\\\n",
    ".background_gradient(cmap='Purples',subset=[\"Active\"])\\\n",
    ".background_gradient(cmap='OrRd',subset=[\"Mortality Rate (%)\"])\\\n",
    ".background_gradient(cmap='PuBuGn',subset=[\"Recovery Rate (%)\"])\\\n",
    "'''"
   ]
  },
  {
   "cell_type": "code",
   "execution_count": null,
   "metadata": {},
   "outputs": [],
   "source": [
    "fig = go.Figure(data=[\n",
    "    go.Bar(name='Confirmed', x=df_continent_total.index, y=df_continent_total['Confirmed'],\n",
    "           text=df_continent_total['Confirmed'], texttemplate='%{text:.2s}', textposition='outside'),\n",
    "    go.Bar(name='Deaths', x=df_continent_total.index, y=df_continent_total['Deaths'],\n",
    "           text=df_continent_total['Deaths'], texttemplate='%{text:.2s}', textposition='outside'),\n",
    "    go.Bar(name='Recovered', x=df_continent_total.index, y=df_continent_total['Recovered'],\n",
    "           text=df_continent_total['Recovered'], texttemplate='%{text:.2s}', textposition='outside'),\n",
    "])\n",
    "# Change the bar mode\n",
    "fig.update_layout(barmode='group')\n",
    "fig.update_layout(legend_orientation=\"h\", legend=dict(x=0, y=1.1))\n",
    "fig.update_layout(margin={\"r\":0,\"l\":0,\"b\":0, \"t\":0})\n",
    "fig.show()"
   ]
  },
  {
   "cell_type": "code",
   "execution_count": null,
   "metadata": {},
   "outputs": [],
   "source": [
    "fig = make_subplots(rows=1, cols=2, specs=[[{'type':'domain'}, {'type':'domain'}]])\n",
    "fig.add_trace(go.Pie(labels=df_continent_total.index, \n",
    "            values=df_continent_total['Confirmed'], \n",
    "            hole=.35,\n",
    "            textinfo='label+percent',\n",
    "            name='Confirmed'\n",
    "          ),\n",
    "        1, 1)\n",
    "fig.add_trace(go.Pie(labels=df_continent_total.index, \n",
    "            values=df_continent_total['Deaths'], \n",
    "            hole=.35,\n",
    "            textinfo='label+percent',\n",
    "            name='Deaths'\n",
    "          ),\n",
    "        1, 2)\n",
    "\n",
    "fig.update_layout(\n",
    "    title_text=\"Confirmed & Deaths Cases Percentage by Continent\",\n",
    "    # Add annotations in the center of the donut pies.\n",
    "    annotations=[\n",
    "        dict(text='Confirmed<br>Cases', x=0.18, y=0.5, showarrow=False),\n",
    "        dict(text='Deaths<br>Cases', x=0.80, y=0.5, showarrow=False),\n",
    "    ]\n",
    ")\n",
    "#fig.update_traces(textposition='inside')\n",
    "fig.update_layout(margin={\"r\":0,\"l\":0,\"b\":0})\n",
    "fig.show()"
   ]
  },
  {
   "cell_type": "code",
   "execution_count": null,
   "metadata": {},
   "outputs": [],
   "source": [
    "df_top_confirmed = df_cases_country.sort_values(by=['Confirmed'],ascending=[False]).head(10)\n",
    "df_top_confirmed.head()"
   ]
  },
  {
   "cell_type": "code",
   "execution_count": null,
   "metadata": {},
   "outputs": [],
   "source": [
    "df_top_confirmed = df_cases_country.sort_values(by=['Confirmed'],ascending=[False]).head(10)\n",
    "\n",
    "fig = go.Figure(data=[\n",
    "    go.Bar(name='Confirmed', x=df_top_confirmed['Country_Region'], y=df_top_confirmed['Confirmed'], \n",
    "           text=df_top_confirmed['Confirmed'], texttemplate='%{text:.2s}', textposition='outside'),\n",
    "    go.Bar(name='Deaths', x=df_top_confirmed['Country_Region'], y=df_top_confirmed['Deaths'], \n",
    "           text=df_top_confirmed['Deaths'], texttemplate='%{text:.2s}', textposition='outside'),\n",
    "    go.Bar(name='Recovered', x=df_top_confirmed['Country_Region'], y=df_top_confirmed['Recovered'], \n",
    "           text=df_top_confirmed['Recovered'], texttemplate='%{text:.2s}', textposition='outside'),\n",
    "])\n",
    "# Change the bar mode\n",
    "fig.update_layout(barmode='group')\n",
    "fig.update_layout(legend_orientation=\"h\", legend=dict(x=0, y=1.1))\n",
    "fig.update_layout(margin={\"r\":0,\"l\":0,\"b\":0, \"t\":0})\n",
    "fig.show()"
   ]
  },
  {
   "cell_type": "code",
   "execution_count": null,
   "metadata": {
    "scrolled": false
   },
   "outputs": [],
   "source": [
    "df_top_total_counts = df_total_counts.copy()\n",
    "# remove 'Diamond Princess' cruise ship row from the list\n",
    "index_name = df_top_total_counts[ df_top_total_counts['Country_Region'] == 'Diamond Princess' ].index\n",
    "df_top_total_counts.drop(index_name , inplace=True)\n",
    "\n",
    "def plot_top_cases(column, title='', count=10, data=df_top_total_counts):\n",
    "    title = column if title == '' else title\n",
    "    plot_data = data\n",
    "    \n",
    "    # for death rate plot, taking data with deaths >= 10\n",
    "    if column == 'Death Rate': plot_data = plot_data[plot_data.Deaths>=10]\n",
    "    # for recovery rate plot, taking data with recovered >= 100\n",
    "    if column == 'Recovery Rate': plot_data = plot_data[plot_data.Recovered>=100]\n",
    "    \n",
    "    plot_data = plot_data.sort_values(by=[column],ascending=[False]).head(count)\n",
    "    fig = px.bar(plot_data, y=column, x='Country_Region', \n",
    "                 text=column, orientation='v', \n",
    "                 title=title+': Top '+str(count)+' Countries')\n",
    "    pc_str = ''\n",
    "    if column in ['Death Rate', 'Recovery Rate']: pc_str = \"%\"\n",
    "    fig.update_traces(texttemplate='%{text:.2s}'+pc_str, textposition='outside')\n",
    "    \n",
    "    fig.update_layout(\n",
    "        uniformtext_minsize=8, \n",
    "        uniformtext_mode='hide',\n",
    "        xaxis_title=\"\",\n",
    "        yaxis_title=\"\"\n",
    "    )\n",
    "    fig.show()\n",
    "\n",
    "\n",
    "plot_top_cases('Confirmed')\n",
    "plot_top_cases('Deaths')\n",
    "plot_top_cases('Recovered')\n",
    "plot_top_cases('Death Rate', 'Death Rate (10+ deaths)')\n",
    "plot_top_cases('Recovery Rate', 'Recovery Rate (100+ recovery)')"
   ]
  },
  {
   "cell_type": "markdown",
   "metadata": {},
   "source": [
    "# Progression over Time "
   ]
  },
  {
   "cell_type": "markdown",
   "metadata": {},
   "source": [
    "### Confirmed Cases - Animation over time"
   ]
  },
  {
   "cell_type": "code",
   "execution_count": null,
   "metadata": {},
   "outputs": [],
   "source": [
    "df_temp = df_cases_time.groupby(['Last_Update', 'Country_Region'])['Confirmed', 'Deaths'].max().reset_index()\n",
    "df_temp[\"Last_Update\"] = pd.to_datetime(df_temp[\"Last_Update\"]).dt.strftime('%m/%d%y')\n",
    "df_temp['Confirmed'].fillna(0, inplace=True)\n",
    "df_temp.sort_values('Confirmed', ascending=False).head()"
   ]
  },
  {
   "cell_type": "code",
   "execution_count": null,
   "metadata": {},
   "outputs": [],
   "source": [
    "fig = px.scatter_geo(df_temp, locations=\"Country_Region\", locationmode='country names', \n",
    "                     hover_name=\"Country_Region\", hover_data=[\"Confirmed\", \"Deaths\"], animation_frame=\"Last_Update\",\n",
    "                     color=np.log10(df_temp[\"Confirmed\"]+1)-1, size=np.power(df_temp[\"Confirmed\"]+1, 0.3)-1,\n",
    "                     range_color= [0, max(np.log10(df_temp[\"Confirmed\"]+1))],\n",
    "                     title=\"COVID-19 Progression Animation Over Time\",\n",
    "                     color_continuous_scale=px.colors.sequential.Plasma,\n",
    "                     projection=\"natural earth\")\n",
    "fig.update_coloraxes(colorscale=\"hot\")\n",
    "fig.update(layout_coloraxis_showscale=False)\n",
    "#fig.update_coloraxes(colorbar_title=\"Color (Confirmed Cases Log Scale)\")\n",
    "fig.show()"
   ]
  },
  {
   "cell_type": "code",
   "execution_count": null,
   "metadata": {},
   "outputs": [],
   "source": [
    "fig = px.choropleth(df_temp, locations=\"Country_Region\", locationmode='country names', \n",
    "                     hover_name=\"Country_Region\", hover_data=[\"Confirmed\", \"Deaths\"], animation_frame=\"Last_Update\",\n",
    "                     color=np.log10(df_temp[\"Confirmed\"]), \n",
    "                     #size=np.power(df_temp[\"Confirmed\"]+1, 0.3)-1,\n",
    "                     #range_color= [0, max(np.log10(df_temp[\"Confirmed\"]+1))],\n",
    "                     title=\"COVID-19 Progression Animation Over Time\",\n",
    "                     color_continuous_scale=px.colors.sequential.Plasma,\n",
    "                     #projection=\"natural earth\"\n",
    "                   )\n",
    "#fig.update_coloraxes(colorscale=\"hot\")\n",
    "fig.update(layout_coloraxis_showscale=False)\n",
    "#fig.update_coloraxes(colorbar_title=\"Color (Confirmed Cases Log Scale)\")\n",
    "fig.show()"
   ]
  },
  {
   "cell_type": "markdown",
   "metadata": {},
   "source": [
    "#### Confirmed Cases vs. Mortality Rate - Animation over Time"
   ]
  },
  {
   "cell_type": "code",
   "execution_count": null,
   "metadata": {},
   "outputs": [],
   "source": [
    "df_continent_t = df_continent_time.copy()\n",
    "df_continent_t[\"Date\"] = pd.to_datetime(df_continent_t[\"Last_Update\"]).dt.strftime('%m/%d/%Y')\n",
    "# while calculating mortality rate, adding 1 to confirmed to avoid divide by zero\n",
    "df_continent_t['Mortality Rate'] = df_continent_t['Deaths'] / (df_continent_t['Confirmed']+1) * 100\n",
    "df_continent_t.sort_values('Confirmed', ascending=False).head(2)"
   ]
  },
  {
   "cell_type": "code",
   "execution_count": null,
   "metadata": {},
   "outputs": [],
   "source": [
    "fig = px.scatter(df_continent_t, y=df_continent_t['Mortality Rate'],\n",
    "                    x=df_continent_t['Confirmed']+1,\n",
    "                    color=\"Continent\", \n",
    "                    hover_name=\"Country_Region\",\n",
    "                    hover_data=[\"Confirmed\", \"Deaths\"],\n",
    "                    color_continuous_scale=px.colors.sequential.Plasma,\n",
    "                    size=np.power(df_continent_t[\"Confirmed\"]+1, 0.3)-0.5,\n",
    "                    size_max=30,\n",
    "                    log_x=True,\n",
    "                    height=600,\n",
    "                    #title='COVID-19',\n",
    "                    range_y=[-1, 20],\n",
    "                    range_x=[1, df_continent_t[\"Confirmed\"].max()],\n",
    "                    animation_frame=\"Date\", \n",
    "                    animation_group=\"Country_Region\",\n",
    "                    )\n",
    "fig.update_layout(\n",
    "    title='Time Series - Confirmed Cases vs Mortality Rate by Continent',\n",
    "    xaxis_title='Confirmed Cases',\n",
    "    yaxis_title='Mortality Rate (%)',\n",
    "    #xaxis_type='log'\n",
    ")\n",
    "fig.show()"
   ]
  },
  {
   "cell_type": "code",
   "execution_count": null,
   "metadata": {},
   "outputs": [],
   "source": []
  }
 ],
 "metadata": {
  "kernelspec": {
   "display_name": "Python 3 (ipykernel)",
   "language": "python",
   "name": "python3"
  },
  "language_info": {
   "codemirror_mode": {
    "name": "ipython",
    "version": 3
   },
   "file_extension": ".py",
   "mimetype": "text/x-python",
   "name": "python",
   "nbconvert_exporter": "python",
   "pygments_lexer": "ipython3",
   "version": "3.9.1"
  }
 },
 "nbformat": 4,
 "nbformat_minor": 4
}
